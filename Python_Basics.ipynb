{
  "nbformat": 4,
  "nbformat_minor": 0,
  "metadata": {
    "colab": {
      "provenance": []
    },
    "kernelspec": {
      "name": "python3",
      "display_name": "Python 3"
    },
    "language_info": {
      "name": "python"
    }
  },
  "cells": [
    {
      "cell_type": "markdown",
      "source": [
        "#Pyhton Basics"
      ],
      "metadata": {
        "id": "zAcf2q36Jbo6"
      }
    },
    {
      "cell_type": "markdown",
      "source": [
        "1. What is Python, and why is it popular ?\n",
        "   - Python is an interpreted, high-level programming language that is renowned for being easy to learn and understand. It is compatible with several programming paradigms, such as functional, object-oriented, and procedural programming.\n",
        "\n",
        "    - Popularity factors:\n",
        "        1. Natural language-like grammar that is simple to learn.\n",
        "        2. A vast standard library and a thriving third-party module ecosystem.\n",
        "        3. Flexible uses in automation, data science, machine learning, web development, and other fields.\n",
        "        4. Active assistance from the community.\n",
        "\n"
      ],
      "metadata": {
        "id": "pk7rgPNTJatd"
      }
    },
    {
      "cell_type": "markdown",
      "source": [
        "2. What is an interpreter in Python ?\n",
        "\n",
        "   - A program that runs Python code line by line is called an interpreter. Python is an interpreted language because it transforms high-level source code into machine-executable code. Jython, PyPy, and CPython (default) are popular Python interpreters.\n"
      ],
      "metadata": {
        "id": "OSLdFcF1KbWK"
      }
    },
    {
      "cell_type": "markdown",
      "source": [
        "3. What are pre-defined keywords in Python ?\n",
        "   - In Python, pre-defined keywords are reserved terms with certain meanings and functions. They can't be used as identifiers, like function or variable names. Examples include import, def, while, for, if, else, True, and False.\n"
      ],
      "metadata": {
        "id": "2eN74XokKqa-"
      }
    },
    {
      "cell_type": "markdown",
      "source": [
        "4. Can keywords be used as variable names ?\n",
        "   - No, because keywords are only used for certain syntactical purposes in Python, they cannot be used as variable names. When this is attempted, a syntax error occurs.\n"
      ],
      "metadata": {
        "id": "3Isxj6ujK4dH"
      }
    },
    {
      "cell_type": "markdown",
      "source": [
        "5. What is mutability in Python ?\n",
        "   - The capacity to alter an object's state (or data) after it has been created is known as mutability:\n",
        "\n",
        "   - Objects that are mutable include lists, dictionaries, and sets.\n",
        "   - Immutable objects—such as strings, tuples, and numbers—cannot be changed.\n"
      ],
      "metadata": {
        "id": "1SqZC13mLEPu"
      }
    },
    {
      "cell_type": "markdown",
      "source": [
        "6. Why are lists mutable, but tuples are immutable ?\n",
        "   - Lists: Made to be adaptable, allowing for the addition, deletion, or modification of elements.\n",
        "\n",
        "   - Tuples: Designed to hold fixed, immutable data, they guarantee consistency and can be used as dictionary keys or set elements.\n"
      ],
      "metadata": {
        "id": "fTkeTt_mLTc5"
      }
    },
    {
      "cell_type": "markdown",
      "source": [
        "7. What is the difference between “==” and “is” operators in Python ?\n",
        "  - ==: Determines whether two objects' values are equal by comparing them.\n",
        "\n",
        "  - is: Verifies whether two items correspond to the same memory location by comparing their identities.\n"
      ],
      "metadata": {
        "id": "YvnHUijjLqZn"
      }
    },
    {
      "cell_type": "markdown",
      "source": [
        "8. What are logical operators in Python ?\n",
        "   - To carry out logical operations, logical operators are employed. Among the examples are:\n",
        "\n",
        "   - and: Refunds If both conditions are met, then it is true.\n",
        "\n",
        "   - or: If at least one condition is true, returns True.\n",
        "\n",
        "   - not: Reverses its operand's logical state.\n",
        "\n"
      ],
      "metadata": {
        "id": "GoCCaE-VL7b1"
      }
    },
    {
      "cell_type": "markdown",
      "source": [
        "9. What is type casting in Python ?\n",
        "   - The process of changing one data type into another is called type casting.\n",
        "\n",
        "   - Example: Using str() to convert an integer to a string.\n"
      ],
      "metadata": {
        "id": "pLtzdST0MN_e"
      }
    },
    {
      "cell_type": "markdown",
      "source": [
        "10. What is the difference between implicit and explicit type casting ?\n",
        "    - Python performs implicit type casting automatically, such as when converting an integer to a float during an arithmetic operation.\n",
        "\n",
        "   - Using functions like int(), float(), or str(), the programmer manually performs explicit type casting.\n"
      ],
      "metadata": {
        "id": "WvK1_IQkMZqI"
      }
    },
    {
      "cell_type": "markdown",
      "source": [
        "11. What is the purpose of conditional statements in Python ?\n",
        "    - Conditional statements allow the program to execute specific blocks of code based on certain conditions. Examples: if, elif, and else. They enable decision-making in the program flow."
      ],
      "metadata": {
        "id": "TdJvIPjwMt6m"
      }
    },
    {
      "cell_type": "markdown",
      "source": [
        "12. How does the elif statement work ?\n",
        "    - The \"else if\" phrase, or \"elif,\" tests several conditions one after the other. If an if statement's initial condition is False, the program analyzes each elif condition that follows until one is True, or if none of the conditions are true, it runs the else block.\n",
        "\n",
        "\n"
      ],
      "metadata": {
        "id": "cxvWR3peM3Zp"
      }
    },
    {
      "cell_type": "markdown",
      "source": [
        "13. What is the difference between for and while loops ?\n",
        "    - for loop: Iterates over a sequence (e.g., list, string, range) a specific number of times.\n",
        "    - while loop: Repeats as long as a condition is True."
      ],
      "metadata": {
        "id": "bqBEV9PeNMFh"
      }
    },
    {
      "cell_type": "markdown",
      "source": [
        "14. Describe a scenario where a while loop is more suitable than a for loop ?\n",
        "    - A while loop is more suitable when the number of iterations is unknown, and the loop should continue until a condition is met.\n",
        "Example: Waiting for user input to meet a specific criterion (e.g., entering a valid password)."
      ],
      "metadata": {
        "id": "CKHqu3DwNXYw"
      }
    },
    {
      "cell_type": "code",
      "source": [
        "# 14th question answer continued with example\n",
        "password = \"\"\n",
        "while password != \"secret123\":\n",
        "    password = input(\"Enter your password: \")\n",
        "print(\"Access granted!\")\n"
      ],
      "metadata": {
        "colab": {
          "base_uri": "https://localhost:8080/",
          "height": 0
        },
        "id": "t0b-tHADNfWP",
        "outputId": "ecba62a4-c7e1-49a5-9d41-2fa82e1845fe"
      },
      "execution_count": 1,
      "outputs": [
        {
          "output_type": "stream",
          "name": "stdout",
          "text": [
            "Enter your password: ss\n",
            "Enter your password: ss\n",
            "Enter your password: secret123\n",
            "Access granted!\n"
          ]
        }
      ]
    },
    {
      "cell_type": "markdown",
      "source": [
        "#Practical Questions"
      ],
      "metadata": {
        "id": "mpjQQGrTPLkm"
      }
    },
    {
      "cell_type": "code",
      "source": [
        "#1. Write a Python program to print \"Hello, World!\" ?\n",
        "\n",
        "print(\"Hello, World!\")\n"
      ],
      "metadata": {
        "colab": {
          "base_uri": "https://localhost:8080/"
        },
        "id": "7qALoUP0N10j",
        "outputId": "cf2d296d-caec-4be1-af2a-4f3c40ed76f5"
      },
      "execution_count": 2,
      "outputs": [
        {
          "output_type": "stream",
          "name": "stdout",
          "text": [
            "Hello, World!\n"
          ]
        }
      ]
    },
    {
      "cell_type": "code",
      "source": [
        "#2. Write a Python program that displays your name and age ?\n",
        "\n",
        "name = \"Devesh Kumar\"\n",
        "age = 21\n",
        "print(\"My name is\",name, \"and I am\",age,\"years old.\")\n"
      ],
      "metadata": {
        "colab": {
          "base_uri": "https://localhost:8080/"
        },
        "id": "ioFIVD4ePjEB",
        "outputId": "93e1531f-ce8d-4edf-d1d0-ac12237b919b"
      },
      "execution_count": 3,
      "outputs": [
        {
          "output_type": "stream",
          "name": "stdout",
          "text": [
            "My name is Devesh Kumar and I am 21 years old.\n"
          ]
        }
      ]
    },
    {
      "cell_type": "code",
      "source": [
        "#3. Write code to print all the pre-defined keywords in Python using the keyword library ?\n",
        "\n",
        "import keyword\n",
        "print(\"Python keywords are:\", keyword.kwlist)\n"
      ],
      "metadata": {
        "colab": {
          "base_uri": "https://localhost:8080/"
        },
        "id": "8QUKeKPWQFig",
        "outputId": "b1c5bd68-ece2-4cf6-d63c-4ff6b2eb4956"
      },
      "execution_count": 4,
      "outputs": [
        {
          "output_type": "stream",
          "name": "stdout",
          "text": [
            "Python keywords are: ['False', 'None', 'True', 'and', 'as', 'assert', 'async', 'await', 'break', 'class', 'continue', 'def', 'del', 'elif', 'else', 'except', 'finally', 'for', 'from', 'global', 'if', 'import', 'in', 'is', 'lambda', 'nonlocal', 'not', 'or', 'pass', 'raise', 'return', 'try', 'while', 'with', 'yield']\n"
          ]
        }
      ]
    },
    {
      "cell_type": "code",
      "source": [
        "#4. Write a program that checks if a given word is a Python keyword ?\n",
        "\n",
        "import keyword\n",
        "word = input(\"Enter a word: \")\n",
        "if keyword.iskeyword(word):\n",
        "    print(f\"{word} is a Python keyword.\")\n",
        "else:\n",
        "    print(f\"{word} is not a Python keyword.\")\n"
      ],
      "metadata": {
        "colab": {
          "base_uri": "https://localhost:8080/"
        },
        "id": "JZGVOyIgQP2Y",
        "outputId": "b0480506-ba48-4574-85a7-a6da6eaa436f"
      },
      "execution_count": 6,
      "outputs": [
        {
          "output_type": "stream",
          "name": "stdout",
          "text": [
            "Enter a word: g\n",
            "g is not a Python keyword.\n"
          ]
        }
      ]
    },
    {
      "cell_type": "code",
      "source": [
        "#5. Create a list and tuple in Python, and demonstrate how attempting to change an element works differently for each ?\n",
        "\n",
        "# List (mutable)\n",
        "my_list = [1, 2, 3]\n",
        "print(\"Original List:\", my_list)\n",
        "my_list[1] = 20\n",
        "print(\"Modified List:\", my_list)\n",
        "\n",
        "# Tuple (immutable)\n",
        "my_tuple = (1, 2, 3)\n",
        "print(\"Original Tuple:\", my_tuple)\n",
        "try:\n",
        "    my_tuple[1] = 20\n",
        "except TypeError as e:\n",
        "    print(\"Error:\", e)\n"
      ],
      "metadata": {
        "colab": {
          "base_uri": "https://localhost:8080/"
        },
        "id": "p2uA2QKrQbQi",
        "outputId": "d26bbde8-79b6-4069-d925-3c0e398d0a6d"
      },
      "execution_count": 7,
      "outputs": [
        {
          "output_type": "stream",
          "name": "stdout",
          "text": [
            "Original List: [1, 2, 3]\n",
            "Modified List: [1, 20, 3]\n",
            "Original Tuple: (1, 2, 3)\n",
            "Error: 'tuple' object does not support item assignment\n"
          ]
        }
      ]
    },
    {
      "cell_type": "code",
      "source": [
        "#6. Write a function to demonstrate the behavior of mutable and immutable arguments ?\n",
        "\n",
        "def modify_arguments(mutable, immutable):\n",
        "    mutable.append(10)  # Modifies the list\n",
        "    immutable += 10     # Creates a new integer object\n",
        "    print(\"Inside Function:\")\n",
        "    print(\"Mutable:\", mutable)\n",
        "    print(\"Immutable:\", immutable)\n",
        "\n",
        "mutable_list = [1, 2, 3]\n",
        "immutable_int = 5\n",
        "\n",
        "modify_arguments(mutable_list, immutable_int)\n",
        "print(\"Outside Function:\")\n",
        "print(\"Mutable:\", mutable_list)\n",
        "print(\"Immutable:\", immutable_int)\n"
      ],
      "metadata": {
        "colab": {
          "base_uri": "https://localhost:8080/"
        },
        "id": "99K23bVZQuKU",
        "outputId": "9f61ae21-f968-46c2-ac3a-fff8e8a7f985"
      },
      "execution_count": 8,
      "outputs": [
        {
          "output_type": "stream",
          "name": "stdout",
          "text": [
            "Inside Function:\n",
            "Mutable: [1, 2, 3, 10]\n",
            "Immutable: 15\n",
            "Outside Function:\n",
            "Mutable: [1, 2, 3, 10]\n",
            "Immutable: 5\n"
          ]
        }
      ]
    },
    {
      "cell_type": "code",
      "source": [
        "#7. Write a function to demonstrate the behavior of mutable and immutable arguments ?\n",
        "\n",
        "def modify_arguments(mutable, immutable):\n",
        "    mutable.append(10)  # Modifies the list\n",
        "    immutable += 10     # Creates a new integer object\n",
        "    print(\"Inside Function:\")\n",
        "    print(\"Mutable:\", mutable)\n",
        "    print(\"Immutable:\", immutable)\n",
        "\n",
        "mutable_list = [1, 2, 3]\n",
        "immutable_int = 5\n",
        "\n",
        "modify_arguments(mutable_list, immutable_int)\n",
        "print(\"Outside Function:\")\n",
        "print(\"Mutable:\", mutable_list)\n",
        "print(\"Immutable:\", immutable_int)\n"
      ],
      "metadata": {
        "colab": {
          "base_uri": "https://localhost:8080/"
        },
        "id": "odEaN8gvRBbM",
        "outputId": "ced85c7b-6503-4842-d9b6-b6271420537a"
      },
      "execution_count": 9,
      "outputs": [
        {
          "output_type": "stream",
          "name": "stdout",
          "text": [
            "True\n",
            "True\n",
            "False\n"
          ]
        }
      ]
    },
    {
      "cell_type": "code",
      "source": [
        "#8. Write a program to demonstrate the use of logical operators ?\n",
        "\n",
        "a = 10\n",
        "b = 5\n",
        "print(a > 5 and b < 10)  # True\n",
        "print(a < 5 or b < 10)   # True\n",
        "print(not (a > 5))       # False\n",
        "\n"
      ],
      "metadata": {
        "colab": {
          "base_uri": "https://localhost:8080/"
        },
        "id": "ZIWw0ClhRI3J",
        "outputId": "c6047c47-bc74-4b62-ea17-91577f73de36"
      },
      "execution_count": 11,
      "outputs": [
        {
          "output_type": "stream",
          "name": "stdout",
          "text": [
            "True\n",
            "True\n",
            "False\n"
          ]
        }
      ]
    },
    {
      "cell_type": "code",
      "source": [
        "#9. Write a Python program to convert user input from string to integer, float, and boolean types ?\n",
        "\n",
        "def convert_input(user_input):\n",
        "    try:\n",
        "        # Convert to integer\n",
        "        int_value = int(user_input)\n",
        "        print(f\"Integer conversion: {int_value}\")\n",
        "    except ValueError:\n",
        "        print(\"Integer conversion: Invalid input\")\n",
        "\n",
        "    try:\n",
        "        # Convert to float\n",
        "        float_value = float(user_input)\n",
        "        print(f\"Float conversion: {float_value}\")\n",
        "    except ValueError:\n",
        "        print(\"Float conversion: Invalid input\")\n",
        "\n",
        "    # Convert to boolean\n",
        "    bool_value = user_input.strip().lower() in [\"true\", \"1\", \"yes\", \"y\"]\n",
        "    print(f\"Boolean conversion: {bool_value}\")\n",
        "\n",
        "# Get user input\n",
        "user_input = input(\"Enter a value: \")\n",
        "convert_input(user_input)\n",
        "\n"
      ],
      "metadata": {
        "colab": {
          "base_uri": "https://localhost:8080/"
        },
        "id": "_XdK1bMsRtux",
        "outputId": "f1ea9eae-d514-4869-cbfa-6c2e64cd3933"
      },
      "execution_count": 14,
      "outputs": [
        {
          "output_type": "stream",
          "name": "stdout",
          "text": [
            "Enter a value: we\n",
            "Integer conversion: Invalid input\n",
            "Float conversion: Invalid input\n",
            "Boolean conversion: False\n"
          ]
        }
      ]
    },
    {
      "cell_type": "code",
      "source": [
        "#10. Write code to demonstrate type casting with list elements ?\n",
        "\n",
        "# Original list\n",
        "my_list = [\"1\", \"2\", \"3.5\", \"True\"]\n",
        "\n",
        "# Casting to respective types\n",
        "int_list = [int(x) for x in my_list[:2]]\n",
        "float_list = [float(x) for x in my_list[2:3]]\n",
        "bool_list = [bool(x) for x in my_list[3:]]\n",
        "\n",
        "print(\"Integer List:\", int_list)\n",
        "print(\"Float List:\", float_list)\n",
        "print(\"Boolean List:\", bool_list)\n"
      ],
      "metadata": {
        "colab": {
          "base_uri": "https://localhost:8080/"
        },
        "id": "Rt98FuxYSup9",
        "outputId": "ac3ced0c-1f09-4a31-f339-d171ae7893ea"
      },
      "execution_count": 15,
      "outputs": [
        {
          "output_type": "stream",
          "name": "stdout",
          "text": [
            "Integer List: [1, 2]\n",
            "Float List: [3.5]\n",
            "Boolean List: [True]\n"
          ]
        }
      ]
    },
    {
      "cell_type": "code",
      "source": [
        "#11. Write a program that checks if a number is positive, negative, or zero ?\n",
        "\n",
        "num = float(input(\"Enter a number: \"))\n",
        "\n",
        "if num > 0:\n",
        "    print(\"The number is positive.\")\n",
        "elif num < 0:\n",
        "    print(\"The number is negative.\")\n",
        "else:\n",
        "    print(\"The number is zero.\")\n"
      ],
      "metadata": {
        "colab": {
          "base_uri": "https://localhost:8080/"
        },
        "id": "K5PIDbYnS2_X",
        "outputId": "281e23a5-6ee2-4f79-de9d-3e8d9775bf03"
      },
      "execution_count": 16,
      "outputs": [
        {
          "output_type": "stream",
          "name": "stdout",
          "text": [
            "Enter a number: -22\n",
            "The number is negative.\n"
          ]
        }
      ]
    },
    {
      "cell_type": "code",
      "source": [
        "#12.  Write a for loop to print numbers from 1 to 10 ?\n",
        "\n",
        "for i in range(1, 11):\n",
        "    print(i, end=\" \")\n"
      ],
      "metadata": {
        "colab": {
          "base_uri": "https://localhost:8080/"
        },
        "id": "Gz9H1-JlS-MM",
        "outputId": "3a414407-9554-4c27-e445-368b2c6545c9"
      },
      "execution_count": 17,
      "outputs": [
        {
          "output_type": "stream",
          "name": "stdout",
          "text": [
            "1 2 3 4 5 6 7 8 9 10 "
          ]
        }
      ]
    },
    {
      "cell_type": "code",
      "source": [
        "#13. Write a Python program to find the sum of all even numbers between 1 and 50 ?\n",
        "\n",
        "even_sum = sum(i for i in range(1, 51) if i % 2 == 0)\n",
        "print(\"Sum of all even numbers between 1 and 50:\", even_sum)\n"
      ],
      "metadata": {
        "colab": {
          "base_uri": "https://localhost:8080/"
        },
        "id": "n5sFJIB8TLRr",
        "outputId": "3051223a-58dc-4175-be03-1ff956ff9943"
      },
      "execution_count": 19,
      "outputs": [
        {
          "output_type": "stream",
          "name": "stdout",
          "text": [
            "Sum of all even numbers between 1 and 50: 650\n"
          ]
        }
      ]
    },
    {
      "cell_type": "code",
      "source": [
        "#14. Write a program to reverse a string using a while loop ?\n",
        "\n",
        "user_string = input(\"Enter a string: \")\n",
        "reversed_string = \"\"\n",
        "i = len(user_string) - 1\n",
        "\n",
        "while i >= 0:\n",
        "    reversed_string += user_string[i]\n",
        "    i -= 1\n",
        "\n",
        "print(\"Reversed string:\", reversed_string)\n"
      ],
      "metadata": {
        "colab": {
          "base_uri": "https://localhost:8080/"
        },
        "id": "jd7KMBlkTdRo",
        "outputId": "3f7ed625-4658-41f3-978b-471bf532fc04"
      },
      "execution_count": 20,
      "outputs": [
        {
          "output_type": "stream",
          "name": "stdout",
          "text": [
            "Enter a string: Devesh\n",
            "Reversed string: hseveD\n"
          ]
        }
      ]
    },
    {
      "cell_type": "code",
      "source": [
        "#15. Write a Python program to calculate the factorial of a number provided by the user using a while loop ?\n",
        "\n",
        "num = int(input(\"Enter a number: \"))\n",
        "factorial = 1\n",
        "\n",
        "if num < 0:\n",
        "    print(\"Factorial is not defined for negative numbers.\")\n",
        "else:\n",
        "    i = 1\n",
        "    while i <= num:\n",
        "        factorial *= i\n",
        "        i += 1\n",
        "    print(f\"Factorial of {num} is {factorial}\")\n"
      ],
      "metadata": {
        "colab": {
          "base_uri": "https://localhost:8080/"
        },
        "id": "TpARujCOTjaA",
        "outputId": "cadd1870-66b2-4224-da06-68f87703b5da"
      },
      "execution_count": 21,
      "outputs": [
        {
          "output_type": "stream",
          "name": "stdout",
          "text": [
            "Enter a number: 5\n",
            "Factorial of 5 is 120\n"
          ]
        }
      ]
    }
  ]
}